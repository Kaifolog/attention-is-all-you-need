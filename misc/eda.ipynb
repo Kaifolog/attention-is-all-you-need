{
 "cells": [
  {
   "cell_type": "code",
   "execution_count": null,
   "metadata": {},
   "outputs": [],
   "source": [
    "%cd ..\n",
    "%pwd"
   ]
  },
  {
   "cell_type": "code",
   "execution_count": null,
   "metadata": {},
   "outputs": [],
   "source": [
    "import datasets\n",
    "import pandas as pd\n",
    "from utils import rebuild_sales_conversations"
   ]
  },
  {
   "cell_type": "code",
   "execution_count": null,
   "metadata": {},
   "outputs": [],
   "source": [
    "dataset_params = {\n",
    "            'path': 'benjaminbeilharz/daily_dialog_w_turn_templates',\n",
    "    }\n",
    "dataset = datasets.load_dataset(**dataset_params)\n",
    "dataset1 = rebuild_sales_conversations(\n",
    "        datasets.load_dataset('goendalf666/sales-conversations')\n",
    "    )\n",
    "dataset = datasets.DatasetDict({\n",
    "    'train': datasets.concatenate_datasets([dataset[\"train\"], dataset1[\"train\"]]),\n",
    "    'test': datasets.concatenate_datasets([dataset[\"test\"], dataset1[\"test\"]]),\n",
    "})"
   ]
  },
  {
   "cell_type": "code",
   "execution_count": null,
   "metadata": {},
   "outputs": [],
   "source": [
    "customer_replicas = []\n",
    "salesman_replicas = []\n",
    "\n",
    "def join_dataset(example):\n",
    "    global customer_replicas\n",
    "    global salesman_replicas\n",
    "    customer_replicas.append(example['first'])\n",
    "    salesman_replicas.append(example['second'])\n",
    "    return example\n",
    "\n",
    "dataset.map(join_dataset)\n",
    "\n",
    "customer_words = \" \".join(customer_replicas)\n",
    "salesman_words = \" \".join(salesman_replicas)\n",
    "\n",
    "customer_words[:10]"
   ]
  },
  {
   "cell_type": "code",
   "execution_count": null,
   "metadata": {},
   "outputs": [],
   "source": [
    "customer = pd.Series(customer_words.split(' '))\n",
    "salesman = pd.Series(salesman_words.split(' '))\n",
    "customer = customer[customer != ''].dropna()\n",
    "salesman = salesman[salesman != ''].dropna()\n",
    "\n",
    "customer_salesman = pd.concat([customer, salesman])\n",
    "\n",
    "len(customer_salesman)"
   ]
  },
  {
   "cell_type": "markdown",
   "metadata": {},
   "source": [
    "## EDA"
   ]
  },
  {
   "cell_type": "code",
   "execution_count": null,
   "metadata": {},
   "outputs": [],
   "source": [
    "import plotly.graph_objects as go\n",
    "\n",
    "GET_TOP = 20\n",
    "fig = go.Figure(\n",
    "    data=[go.Bar(x=customer_salesman.value_counts().index[:GET_TOP], y=customer_salesman.value_counts()[:GET_TOP])],\n",
    "    # layout_title_text=\"Top of words\",\n",
    ")\n",
    "fig.update_layout(\n",
    "    width=1000,\n",
    "    height=600,\n",
    ")\n",
    "fig"
   ]
  },
  {
   "cell_type": "code",
   "execution_count": null,
   "metadata": {},
   "outputs": [],
   "source": [
    "customer_salesman_lengths = customer_salesman.apply(len)\n",
    "fig = go.Figure(\n",
    "    data=[go.Bar(x=customer_salesman_lengths.value_counts().index[:GET_TOP], y=customer_salesman_lengths.value_counts()[:GET_TOP])],\n",
    "    # layout_title_text=\"Top of words lengths\",\n",
    ")\n",
    "fig.update_xaxes(tickmode='linear', dtick=1)\n",
    "fig.update_layout(\n",
    "    width=1000,\n",
    "    height=600,\n",
    ")\n",
    "fig"
   ]
  },
  {
   "cell_type": "code",
   "execution_count": null,
   "metadata": {},
   "outputs": [],
   "source": [
    "customer_replicas_series = pd.Series([r.split(' ') for r in customer_replicas])\n",
    "customer_replicas_series_lengths = customer_replicas_series.apply(len)\n",
    "print('mean =', customer_replicas_series_lengths.mean())\n",
    "\n",
    "fig = go.Figure(\n",
    "    data=[go.Bar(x=list(map(str, customer_replicas_series_lengths.value_counts().index[:GET_TOP])), y=customer_replicas_series_lengths.value_counts()[:GET_TOP])],\n",
    "    # layout_title_text=\"Top of words lengths\",\n",
    ")\n",
    "fig.update_xaxes(tickmode='linear', dtick=1)\n",
    "fig.update_layout(\n",
    "    width=1000,\n",
    "    height=600,\n",
    ")\n",
    "fig"
   ]
  },
  {
   "cell_type": "code",
   "execution_count": null,
   "metadata": {},
   "outputs": [],
   "source": [
    "salesman_replicas_series = pd.Series([r.split(' ') for r in salesman_replicas])\n",
    "salesman_replicas_series_lengths = salesman_replicas_series.apply(len)\n",
    "print('mean', salesman_replicas_series_lengths.mean())\n",
    "\n",
    "fig = go.Figure(\n",
    "    data=[go.Bar(x=list(map(str, salesman_replicas_series_lengths.value_counts().index[:GET_TOP])), y=salesman_replicas_series_lengths.value_counts()[:GET_TOP])],\n",
    "    # layout_title_text=\"Top of words lengths\",\n",
    ")\n",
    "fig.update_xaxes(tickmode='linear', dtick=1)\n",
    "fig.update_layout(\n",
    "    width=1000,\n",
    "    height=600,\n",
    ")\n",
    "fig"
   ]
  },
  {
   "cell_type": "markdown",
   "metadata": {},
   "source": [
    "## Results"
   ]
  },
  {
   "cell_type": "code",
   "execution_count": null,
   "metadata": {},
   "outputs": [],
   "source": [
    "avg_loss = [4.683122557599412, 4.08968559455158, 3.9299956232043027, 3.8362962810446413, 3.7705718107964548, 3.7197298921181865, 3.6819072658927707, 3.6477585723362447, 3.6189669940250564, 3.5965630010639833, 3.5736340667582125, 3.5530127338109705, 3.5363623719132677, 3.518207135593724, 3.503303310283648, 3.490355277761067, 3.47979497815184, 3.4705470947287327, 3.461080748643943, 3.4504793292202733, 3.43954803523355, 3.4313680908829687, 3.4243981912167705, 3.418926726982584, 3.412472141581156, 3.4040974040541725, 3.396462326150654, 3.390874049065009, 3.384740862730339, 3.3831698187744936, 3.377615779056822, 3.370489776033126, 3.3637998722239546, 3.3588077136844436, 3.3563861662328387, 3.3517245250819974, 3.347874591672049, 3.342675047288493, 3.338415129301717, 3.335082618599201, 3.3335834316042408, 3.3293223779868897, 3.3285429230212857, 3.3246290460447776, 3.3205071278809135, 3.317246286536055, 3.3152776581727745, 3.314537986297008, 3.3098972581437773, 3.305390340440522, 3.301215312796523, 3.297904837865385, 3.2973419326395814, 3.2959515503860097, 3.291181418188081, 3.287560901026724, 3.2860467004951457, 3.282422618444877, 3.2816693887562836, 3.27844739652499, 3.2784899422949976, 3.2748442010804912, 3.2719987050850246, 3.2701922306077185, 3.2693351997758127, 3.2677559321372156, 3.2646710061506514, 3.261836566360647, 3.259425831292232, 3.2596144469496986, 3.260005406518618, 3.259219568207211, 3.2565820846334685, 3.252601121470937, 3.2504624620092435, 3.2450617743660475, 3.243349578339965, 3.2416037826111097, 3.237871884127531, 3.2344527413682065, 3.2310175849542055, 3.230840415968744, 3.228842055811215, 3.2272194431426775, 3.2250162112956504, 3.2212384576527078, 3.219657489376989, 3.219253616663864, 3.2182067674585118, 3.2144028786689054, 3.2137646237506607, 3.210586595179947, 3.208211858508236, 3.2068974025867036, 3.2073613820530547, 3.206229298614821, \n",
    "3.205072688133419, 3.2000969841545057, 3.199582364245789, 3.1993029033911773, 3.1984005118709433, 3.1959951020566892, 3.19373780220442, 3.190490219102882, 3.1905742528019028, 3.189684370144161, 3.189127781945446, 3.187285578179745, 3.184499506126039, 3.1837763256857263, 3.1815141104637465, 3.1817021174428044, 3.1823059639768982, 3.1806817536583925, 3.17586700513999, 3.1741387054763246, \n",
    "3.174252045736593, 3.1809516874566777, 3.1801430284451704, 3.1776602514960586, 3.1759766322747183, 3.1785217225929423, 3.177608569917702, 3.1791756198002306, 3.17755709375338, 3.174141639718201, 3.168118189742144, 3.16455979794121, 3.1630842529928627, 3.1625696632946942, 3.1615814452732924, 3.159506724615832, 3.1558882415871508, 3.1534894053611118, 3.1529586070772484, 3.151804130634171, 3.1530204810664486, 3.151077667461735, 3.147961581690679, 3.147056323574247, 3.146331995029897, 3.1481804438275156, 3.1442922464361702, 3.144527207949561, 3.142975735209514, 3.1416706106613432, 3.141888510188972, 3.1419648363057906, 3.141094000226495, 3.137592848435149, 3.136206713469122, \n",
    "3.1353522050336844, 3.136918304692003, 3.138406183594237, 3.1351791409672694, 3.135288615088299, 3.133178212854173, 3.1303172011399165, 3.131839318221046, 3.1331736837194644, 3.13168221204733, 3.129624704280931, 3.126871521163822, 3.125784221331996, 3.1249496737090006, 3.123533091552919, 3.1210075392100443, 3.1207841706443284, 3.1182466813604655, 3.1158328042328605, 3.11938929473022, 3.119001821184316, 3.1190588048981707, 3.114354356889774, 3.1134284807893273, 3.1117591033865484, 3.1141570970199055, 3.1150092243215695, 3.1120943095437017, 3.1114757727509192, 3.1116856095123033, 3.1097586334815093, 3.1111437435373666, 3.1117965994538515, 3.1084088364749136, 3.1042752260179998, 3.1031252704087335, 3.101431456314294, 3.1023882346355105, 3.101194098451275, 3.1007119616345737, 3.099177873620061, 3.100611278090081, 3.1029231341376655, \n",
    "3.106137881115775, 3.1042271301176583, 3.100036881680001, 3.0982731200817075, 3.0954459156811205, 3.0952473989993714, 3.093986033228531, 3.093338458142399, 3.0890286455702602, 3.089442687324917, 3.0870799775623565, 3.0875930724945024, 3.088957901342449, 3.0887026106071644, 3.0850289771244355, 3.0831967311623343, 3.0833088455879603, 3.0836357616699273, 3.083250692243763, 3.081555665083024, 3.078908171408554, 3.0788143215224855, \n",
    "3.0775995805649004, 3.0789833235750246, 3.077678060845664, 3.075685800137353, 3.0743025815139315, 3.071051075611791, 3.073599961172513, 3.0724170499688226, 3.0729981057627156, 3.074779002300305, 3.0717263422702055, 3.068190268471158, 3.0694808440970553, 3.0691136547152436, 3.071043096414793, 3.0687266994225197, 3.068923047948225, 3.069276702503176, 3.069560301642608, 3.0719123480105526, 3.0700726356493373, 3.0676756652674446, 3.069617000884859, 3.0695573090143133, 3.0668658113100693, 3.0682558425226745, 3.067477606196619, 3.066659622726707, 3.0641901741141067, 3.0644801633373704, 3.0651329272657586, 3.0649593693033257, 3.0641787781911045, 3.062990475871605, 3.063259187550747, \n",
    "3.0656467038593354, 3.0664828533785844, 3.065008042727908, 3.0616974956689025, 3.0593103242382695, 3.057923776144103, 3.055752748933058, 3.0550161240468796, 3.0575602323011286, 3.056805594438289, 3.05404245173355, 3.0550386262461204, 3.052602237026021, 3.0549217281151058, 3.055045197549009, 3.051982980075106, 3.049835194572993, 3.050950020276152, 3.0542038594234087, 3.055550154652977, 3.0564186658765187, 3.057035060153151, 3.0541556809564154, 3.0545874337002052, 3.0566972430762833, 3.059627943271012, 3.060575064906258, 3.058964222762673, 3.0587735487628094, 3.0586149013056088, 3.0589412707521086, 3.05928662610531, 3.0590819881826445, 3.055421370256257, 3.056377348344433, 3.056577918281884, 3.057184892396516, 3.0572598886004787, 3.055810606836082, 3.0528140995012305, 3.0518283839865807, 3.051046775476281, 3.0509252136047995, 3.0542482099382395, 3.0524423444784547, 3.0527796660227153, 3.049766475358665, 3.0493307093890443, 3.0484213512485883]\n",
    "\n",
    "len(avg_loss)"
   ]
  },
  {
   "cell_type": "code",
   "execution_count": null,
   "metadata": {},
   "outputs": [],
   "source": [
    "fig = go.Figure()\n",
    "\n",
    "# Add a line trace\n",
    "fig.add_trace(go.Scatter(x=list(range(len(avg_loss))), y=avg_loss, mode='lines', name='Line Plot'))\n",
    "\n",
    "# Update layout\n",
    "fig.update_layout(\n",
    "    title='Train Epoch/Loss',\n",
    "    xaxis_title='Epoch',\n",
    "    yaxis_title='Loss'\n",
    ")\n",
    "\n",
    "# Show the figure\n",
    "fig.show()"
   ]
  },
  {
   "cell_type": "code",
   "execution_count": null,
   "metadata": {},
   "outputs": [],
   "source": []
  }
 ],
 "metadata": {
  "kernelspec": {
   "display_name": "Python 3",
   "language": "python",
   "name": "python3"
  },
  "language_info": {
   "codemirror_mode": {
    "name": "ipython",
    "version": 3
   },
   "file_extension": ".py",
   "mimetype": "text/x-python",
   "name": "python",
   "nbconvert_exporter": "python",
   "pygments_lexer": "ipython3",
   "version": "3.11.2"
  }
 },
 "nbformat": 4,
 "nbformat_minor": 2
}
